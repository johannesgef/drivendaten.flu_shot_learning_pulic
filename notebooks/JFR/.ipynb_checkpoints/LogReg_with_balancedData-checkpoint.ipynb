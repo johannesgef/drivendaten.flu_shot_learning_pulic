{
 "cells": [
  {
   "cell_type": "markdown",
   "metadata": {},
   "source": [
    "1. Feature Selection based on F-Value -> Sorting Columns\n",
    "2. Which Features optimize ROC with train_vali\n",
    "3. Apply Feature List on Test Data \n",
    "4. Submit\n"
   ]
  },
  {
   "cell_type": "code",
   "execution_count": 1,
   "metadata": {},
   "outputs": [],
   "source": [
    "import re\n",
    "from pathlib import Path\n",
    "import numpy as np\n",
    "import pandas as pd"
   ]
  },
  {
   "cell_type": "code",
   "execution_count": 2,
   "metadata": {},
   "outputs": [],
   "source": [
    "data_path_raw = Path.cwd().parent.parent / \"data\" / \"raw\"\n",
    "data_path_preprocessed = Path.cwd().parent.parent / \"data\" / \"processed\""
   ]
  },
  {
   "cell_type": "code",
   "execution_count": 3,
   "metadata": {},
   "outputs": [],
   "source": [
    "raw_df_processed_balanced = pd.read_csv(\n",
    "    data_path_preprocessed / \n",
    "    \"training_set_features__Preprocessing_nominal_ordinal_WOE_Impute_balanced_dropped_stand.csv\", \n",
    "    index_col=\"respondent_id\"\n",
    ")\n",
    "\n",
    "labels_df_balanced = pd.read_csv(\n",
    "    data_path_preprocessed / \n",
    "    \"training_set_labels__balanced.csv\", \n",
    "    index_col=\"respondent_id\"\n",
    ")\n",
    "\n",
    "test_df_processed = pd.read_csv(\n",
    "    data_path_preprocessed / \n",
    "    \"test_set_features__Preprocessing_nominal_ordinal_WOE_Impute_balanced_dropped_stand.csv\", \n",
    "    index_col=\"respondent_id\"\n",
    ")\n"
   ]
  },
  {
   "cell_type": "code",
   "execution_count": 4,
   "metadata": {},
   "outputs": [],
   "source": [
    "import time \n",
    "\n",
    "from sklearn.multioutput import MultiOutputClassifier\n",
    "from sklearn.linear_model import LogisticRegression\n",
    "from sklearn.model_selection import train_test_split\n",
    "from sklearn.metrics import roc_auc_score"
   ]
  },
  {
   "cell_type": "code",
   "execution_count": 25,
   "metadata": {},
   "outputs": [
    {
     "data": {
      "text/plain": [
       "0.8321844987450644"
      ]
     },
     "execution_count": 25,
     "metadata": {},
     "output_type": "execute_result"
    }
   ],
   "source": [
    "X_train, X_test, y_train, y_test = train_test_split(\n",
    "        raw_df_processed_balanced,\n",
    "        labels_df_balanced,\n",
    "        shuffle = True,\n",
    "        test_size = 0.25,\n",
    "        random_state = 10)\n",
    "    \n",
    "logisticRegr = MultiOutputClassifier(LogisticRegression(\n",
    "    penalty=\"l1\",\n",
    "    C=0.5,\n",
    "    class_weight = 'None',\n",
    "    dual = False,\n",
    "    fit_intercept = True,\n",
    "    l1_ratio = 0,\n",
    "    max_iter = 1000,\n",
    "    solver = 'saga'\n",
    "    ))\n",
    "    \n",
    "\n",
    "start = time.time()\n",
    "logisticRegr.fit(X_train, y_train)\n",
    "test_probability = logisticRegr.predict_proba(X_test)\n",
    "end = time.time()\n",
    "    \n",
    "    \n",
    "y_preds = pd.DataFrame(\n",
    "    {\n",
    "        \"h1n1_vaccine\": test_probability[0][:, 1],\n",
    "        \"seasonal_vaccine\": test_probability[1][:, 1],\n",
    "    },\n",
    "    index = y_test.index\n",
    "    )\n",
    "    \n",
    "    \n",
    "roc_auc_score(y_test, y_preds)"
   ]
  },
  {
   "cell_type": "code",
   "execution_count": 20,
   "metadata": {
    "scrolled": true
   },
   "outputs": [
    {
     "name": "stderr",
     "output_type": "stream",
     "text": [
      "/Users/johannes/opt/anaconda3/envs/py37-ds/lib/python3.7/site-packages/sklearn/linear_model/_logistic.py:1317: UserWarning: l1_ratio parameter is only used when penalty is 'elasticnet'. Got (penalty=l1)\n",
      "  \"(penalty={})\".format(self.penalty))\n",
      "/Users/johannes/opt/anaconda3/envs/py37-ds/lib/python3.7/site-packages/sklearn/linear_model/_logistic.py:1317: UserWarning: l1_ratio parameter is only used when penalty is 'elasticnet'. Got (penalty=l1)\n",
      "  \"(penalty={})\".format(self.penalty))\n"
     ]
    }
   ],
   "source": [
    "logisticRegr = MultiOutputClassifier(LogisticRegression(\n",
    "    penalty=\"l1\",\n",
    "    C=0.5,\n",
    "    class_weight = 'None',\n",
    "    dual = False,\n",
    "    fit_intercept = True,\n",
    "    l1_ratio = 0,\n",
    "    max_iter = 1000,\n",
    "    solver = 'saga'\n",
    "    ))\n",
    "    \n",
    "logisticRegr.fit(raw_df_processed_balanced, labels_df_balanced)\n",
    "test_probability = logisticRegr.predict_proba(test_df_processed)\n",
    "\n",
    "y_preds = pd.DataFrame(\n",
    "    {\n",
    "        \"h1n1_vaccine\": test_probability[0][:, 1],\n",
    "        \"seasonal_vaccine\": test_probability[1][:, 1],\n",
    "    },\n",
    "    index = test_df_processed.index\n",
    "    )\n",
    "    "
   ]
  },
  {
   "cell_type": "code",
   "execution_count": 21,
   "metadata": {},
   "outputs": [],
   "source": [
    "submission_df = pd.read_csv(data_path_raw / \"submission_format.csv\", \n",
    "                            index_col=\"respondent_id\")"
   ]
  },
  {
   "cell_type": "code",
   "execution_count": 22,
   "metadata": {},
   "outputs": [],
   "source": [
    "np.testing.assert_array_equal(test_df_processed.index.values, \n",
    "                              submission_df.index.values)\n",
    "\n",
    "\n"
   ]
  },
  {
   "cell_type": "code",
   "execution_count": 23,
   "metadata": {},
   "outputs": [],
   "source": [
    "# Save predictions to submission data frame\n",
    "submission_df[\"h1n1_vaccine\"] = y_preds[\"h1n1_vaccine\"]\n",
    "submission_df[\"seasonal_vaccine\"] = y_preds[\"seasonal_vaccine\"]"
   ]
  },
  {
   "cell_type": "code",
   "execution_count": 24,
   "metadata": {},
   "outputs": [],
   "source": [
    "#CHANGE PATH \n",
    "\n",
    "output_path = Path.cwd().parent.parent / \"models\" / \"submissions\"\n",
    "\n",
    "\n",
    "submission_df.to_csv(output_path /'logreg_JFR_200805_ordinal_nominal_meanImpute_BalancedData.csv', index=True)\n",
    "\n"
   ]
  },
  {
   "cell_type": "code",
   "execution_count": null,
   "metadata": {},
   "outputs": [],
   "source": []
  }
 ],
 "metadata": {
  "kernelspec": {
   "display_name": "Python [conda env:py37-ds]",
   "language": "python",
   "name": "conda-env-py37-ds-py"
  },
  "language_info": {
   "codemirror_mode": {
    "name": "ipython",
    "version": 3
   },
   "file_extension": ".py",
   "mimetype": "text/x-python",
   "name": "python",
   "nbconvert_exporter": "python",
   "pygments_lexer": "ipython3",
   "version": "3.7.7"
  }
 },
 "nbformat": 4,
 "nbformat_minor": 4
}
