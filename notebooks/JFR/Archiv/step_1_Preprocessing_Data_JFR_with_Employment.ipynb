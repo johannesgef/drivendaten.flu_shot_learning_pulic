{
 "cells": [
  {
   "cell_type": "markdown",
   "metadata": {},
   "source": [
    "1.  Load data / raw / training_set_features.csv\n",
    "    Laod data / raw / test_set_features.csv\n",
    "    \n",
    "2.  one-hot encoding with NA for both datasets\n",
    "3.  list and copy column names\n",
    "4.  edit column names manually or with regex\n",
    "    Patern:\n",
    "        features_df.age_group_18-34_Years\n",
    "        .... \n",
    "\n",
    "        features_df.education_12_Years\n",
    "        features_df.education_gr_12 Years\n",
    "        features_df.education_College Graduate\n",
    "        features_df.education_Some College\n",
    "        features_df.education_nan\n",
    "        features_df.race_Black\n",
    "        features_df.race_Hispanic\n",
    "        features_df.race_Other_or_Multiple\n",
    "        ...\n",
    "\n",
    "\n",
    "        features_df.income_poverty_less_75k  ## Above Poverty drin gelassen\n",
    "        features_df.income_poverty_gr_75k\n",
    "        features_df.income_poverty_Below_Poverty\n",
    "        features_df.income_poverty_nan\n",
    "        ... \n",
    "5.   save data / processed / ..._1hot_na.csv (with na)\n",
    "     save data / processed / ..._1hot.csv (without na)\n",
    "     \n",
    "     save data / processed / ..._employ_1hot_na.csv (with na)\n",
    "     save data / processed / ..._employ_1hot.csv (without na)\n",
    "\n"
   ]
  },
  {
   "cell_type": "markdown",
   "metadata": {},
   "source": [
    "Task CHI\n",
    "- training and test with and without employment only without na\n",
    "\n",
    "\n",
    "Task JFR\n",
    "- training and test with and without employment only with na"
   ]
  },
  {
   "cell_type": "code",
   "execution_count": 1,
   "metadata": {},
   "outputs": [],
   "source": [
    "from pathlib import Path\n",
    "\n",
    "import pandas as pd\n",
    "\n",
    "import re"
   ]
  },
  {
   "cell_type": "code",
   "execution_count": 2,
   "metadata": {},
   "outputs": [],
   "source": [
    "data_path = Path.cwd().parent / \"data\" / \"raw\"\n"
   ]
  },
  {
   "cell_type": "code",
   "execution_count": 3,
   "metadata": {},
   "outputs": [],
   "source": [
    "raw_df = pd.read_csv(\n",
    "    data_path / \"training_set_features.csv\", \n",
    "    index_col=\"respondent_id\"\n",
    ")"
   ]
  },
  {
   "cell_type": "code",
   "execution_count": 4,
   "metadata": {},
   "outputs": [],
   "source": [
    "test_df = pd.read_csv(\n",
    "    data_path / \"test_set_features.csv\", \n",
    "    index_col=\"respondent_id\"\n",
    ")"
   ]
  },
  {
   "cell_type": "code",
   "execution_count": 5,
   "metadata": {},
   "outputs": [],
   "source": [
    "#one-hot-enconding without employment"
   ]
  },
  {
   "cell_type": "code",
   "execution_count": 6,
   "metadata": {},
   "outputs": [],
   "source": [
    "non_numerical_obj = raw_df.columns[raw_df.dtypes == \"object\"]"
   ]
  },
  {
   "cell_type": "code",
   "execution_count": 7,
   "metadata": {},
   "outputs": [],
   "source": [
    "non_numerical_list = non_numerical_obj.tolist()[0:-1]\n"
   ]
  },
  {
   "cell_type": "code",
   "execution_count": 8,
   "metadata": {},
   "outputs": [],
   "source": [
    "raw_df_encoded = pd.get_dummies(raw_df, columns = non_numerical_list, dummy_na = True )\n",
    "test_df_encoded = pd.get_dummies(test_df, columns = non_numerical_list, dummy_na = True )"
   ]
  },
  {
   "cell_type": "code",
   "execution_count": 9,
   "metadata": {},
   "outputs": [],
   "source": [
    "#renaming"
   ]
  },
  {
   "cell_type": "code",
   "execution_count": 10,
   "metadata": {},
   "outputs": [],
   "source": [
    "test_column_list = test_df_encoded.columns.tolist()"
   ]
  },
  {
   "cell_type": "code",
   "execution_count": 13,
   "metadata": {},
   "outputs": [],
   "source": [
    "new_names = []\n",
    "old_names = []\n",
    "renamed_list = []\n",
    "patterns = [(r'\\$(\\d\\d)....' , '\\\\1k' ), #Currency\n",
    "            (r'\\<\\=|\\<\\s' , 'less_'  ), #less\n",
    "            (r'\\>\\=|\\>\\s' , 'gr_'  ), #gr\n",
    "            (r'(\\w)\\,\\s(\\w)', '\\\\1_\\\\2'), #comma \n",
    "            (r'\\s\\-\\s', '_-_'), # _-_\n",
    "            (r'(\\w)\\s+(\\w)', '\\\\1_\\\\2'), #spaces\n",
    "            (r'\\_\\_', '_'), #spaces\n",
    "            (r'(\\d\\+)\\s' , '\\\\1_') #spaces\n",
    "           ] "
   ]
  },
  {
   "cell_type": "code",
   "execution_count": 14,
   "metadata": {},
   "outputs": [],
   "source": [
    "for column_name in test_column_list:\n",
    "    for old, new in patterns:\n",
    "        if bool(re.search(pattern = old, string = column_name)):\n",
    "            old_names.append(column_name)\n",
    "            column_name = re.sub(pattern = old, repl = new , string = column_name)\n",
    "            new_names.append(column_name)\n",
    "                "
   ]
  },
  {
   "cell_type": "code",
   "execution_count": 15,
   "metadata": {},
   "outputs": [],
   "source": [
    "rename_dict = dict(zip(old_names,new_names))"
   ]
  },
  {
   "cell_type": "code",
   "execution_count": 16,
   "metadata": {},
   "outputs": [],
   "source": [
    "for column_name in test_column_list:\n",
    "    for old, new in rename_dict.items():\n",
    "        column_name = column_name.replace(old,new)\n",
    "    renamed_list.append(column_name)"
   ]
  },
  {
   "cell_type": "code",
   "execution_count": 17,
   "metadata": {},
   "outputs": [],
   "source": [
    "#renamed_list"
   ]
  },
  {
   "cell_type": "code",
   "execution_count": 18,
   "metadata": {},
   "outputs": [],
   "source": [
    "raw_df_encoded.columns = renamed_list\n",
    "test_df_encoded.columns = renamed_list"
   ]
  },
  {
   "cell_type": "code",
   "execution_count": 19,
   "metadata": {},
   "outputs": [],
   "source": [
    "data_path_processed = Path.cwd().parent / \"data\" / \"processed\""
   ]
  },
  {
   "cell_type": "code",
   "execution_count": 20,
   "metadata": {},
   "outputs": [],
   "source": [
    "raw_df_encoded.to_csv(\n",
    "    data_path_processed / \"training_set_features_employ_1hot_na.csv\", \n",
    ")"
   ]
  },
  {
   "cell_type": "code",
   "execution_count": 21,
   "metadata": {},
   "outputs": [],
   "source": [
    "test_df_encoded.to_csv(\n",
    "    data_path_processed / \"test_set_features_employ_1hot_na.csv\", \n",
    ")"
   ]
  },
  {
   "cell_type": "code",
   "execution_count": null,
   "metadata": {},
   "outputs": [],
   "source": [
    "\n",
    "\n"
   ]
  }
 ],
 "metadata": {
  "kernelspec": {
   "display_name": "Python [conda env:py37-ds]",
   "language": "python",
   "name": "conda-env-py37-ds-py"
  },
  "language_info": {
   "codemirror_mode": {
    "name": "ipython",
    "version": 3
   },
   "file_extension": ".py",
   "mimetype": "text/x-python",
   "name": "python",
   "nbconvert_exporter": "python",
   "pygments_lexer": "ipython3",
   "version": "3.7.7"
  }
 },
 "nbformat": 4,
 "nbformat_minor": 4
}
