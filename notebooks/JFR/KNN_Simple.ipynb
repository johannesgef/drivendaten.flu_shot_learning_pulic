{
 "cells": [
  {
   "cell_type": "markdown",
   "metadata": {},
   "source": [
    "1. Fit KNN and Predict with Train Validate Data Split \n",
    "2. Try different k's and parameters\n"
   ]
  },
  {
   "cell_type": "code",
   "execution_count": 1,
   "metadata": {},
   "outputs": [],
   "source": [
    "import re\n",
    "from pathlib import Path\n",
    "import numpy as np\n",
    "import pandas as pd"
   ]
  },
  {
   "cell_type": "code",
   "execution_count": 2,
   "metadata": {},
   "outputs": [],
   "source": [
    "data_path_raw = Path.cwd().parent.parent / \"data\" / \"raw\"\n",
    "\n",
    "data_path_preprocessed = Path.cwd().parent.parent / \"data\" / \"processed\"\n"
   ]
  },
  {
   "cell_type": "code",
   "execution_count": 3,
   "metadata": {},
   "outputs": [],
   "source": [
    "raw_df_processed = pd.read_csv(data_path_preprocessed / \"training_set_features_encoded_imputed_standardized.csv\", index_col=\"respondent_id\")\n",
    "labels_df = pd.read_csv(data_path_raw / \"training_set_labels.csv\", index_col=\"respondent_id\")\n",
    "test_df_processed = pd.read_csv(data_path_preprocessed / \"test_set_features_encoded_imputed_standardized.csv\", index_col=\"respondent_id\")\n",
    "\n",
    "all_raw_df = raw_df_processed.join(labels_df)"
   ]
  },
  {
   "cell_type": "code",
   "execution_count": 4,
   "metadata": {},
   "outputs": [],
   "source": [
    "from sklearn.model_selection import train_test_split\n",
    "X_train, X_test, y_train, y_test = train_test_split(\n",
    "    raw_df_processed,\n",
    "    labels_df,\n",
    "    shuffle = True,\n",
    "    test_size = 0.25,\n",
    "    random_state = 10)"
   ]
  },
  {
   "cell_type": "code",
   "execution_count": 10,
   "metadata": {},
   "outputs": [
    {
     "name": "stdout",
     "output_type": "stream",
     "text": [
      "34.52661919593811\n"
     ]
    }
   ],
   "source": [
    "from sklearn.neighbors import KNeighborsClassifier\n",
    "import time \n",
    "\n",
    "knn = KNeighborsClassifier(n_neighbors=7, weights='distance')\n",
    "\n",
    "start = time.time()\n",
    "knn.fit(X_train, y_train)\n",
    "test_predictions = knn.predict(X_test)\n",
    "test_probability = knn.predict_proba(X_test)\n",
    "end = time.time()\n",
    "print(end - start)\n",
    "\n",
    "\n"
   ]
  },
  {
   "cell_type": "code",
   "execution_count": 11,
   "metadata": {},
   "outputs": [
    {
     "name": "stdout",
     "output_type": "stream",
     "text": [
      "y_preds.shape: (6677, 2)\n"
     ]
    },
    {
     "data": {
      "text/html": [
       "<div>\n",
       "<style scoped>\n",
       "    .dataframe tbody tr th:only-of-type {\n",
       "        vertical-align: middle;\n",
       "    }\n",
       "\n",
       "    .dataframe tbody tr th {\n",
       "        vertical-align: top;\n",
       "    }\n",
       "\n",
       "    .dataframe thead th {\n",
       "        text-align: right;\n",
       "    }\n",
       "</style>\n",
       "<table border=\"1\" class=\"dataframe\">\n",
       "  <thead>\n",
       "    <tr style=\"text-align: right;\">\n",
       "      <th></th>\n",
       "      <th>h1n1_vaccine</th>\n",
       "      <th>seasonal_vaccine</th>\n",
       "    </tr>\n",
       "    <tr>\n",
       "      <th>respondent_id</th>\n",
       "      <th></th>\n",
       "      <th></th>\n",
       "    </tr>\n",
       "  </thead>\n",
       "  <tbody>\n",
       "    <tr>\n",
       "      <th>2653</th>\n",
       "      <td>0.288744</td>\n",
       "      <td>1.000000</td>\n",
       "    </tr>\n",
       "    <tr>\n",
       "      <th>9506</th>\n",
       "      <td>0.155169</td>\n",
       "      <td>0.413151</td>\n",
       "    </tr>\n",
       "    <tr>\n",
       "      <th>23107</th>\n",
       "      <td>0.000000</td>\n",
       "      <td>0.154342</td>\n",
       "    </tr>\n",
       "    <tr>\n",
       "      <th>22648</th>\n",
       "      <td>0.000000</td>\n",
       "      <td>0.439080</td>\n",
       "    </tr>\n",
       "    <tr>\n",
       "      <th>25589</th>\n",
       "      <td>0.137959</td>\n",
       "      <td>0.860526</td>\n",
       "    </tr>\n",
       "  </tbody>\n",
       "</table>\n",
       "</div>"
      ],
      "text/plain": [
       "               h1n1_vaccine  seasonal_vaccine\n",
       "respondent_id                                \n",
       "2653               0.288744          1.000000\n",
       "9506               0.155169          0.413151\n",
       "23107              0.000000          0.154342\n",
       "22648              0.000000          0.439080\n",
       "25589              0.137959          0.860526"
      ]
     },
     "execution_count": 11,
     "metadata": {},
     "output_type": "execute_result"
    }
   ],
   "source": [
    "y_preds = pd.DataFrame(\n",
    "    {\n",
    "        \"h1n1_vaccine\": test_probability[0][:, 1],\n",
    "        \"seasonal_vaccine\": test_probability[1][:, 1],\n",
    "    },\n",
    "    index = y_test.index\n",
    ")\n",
    "print(\"y_preds.shape:\", y_preds.shape)\n",
    "y_preds.head()"
   ]
  },
  {
   "cell_type": "code",
   "execution_count": 12,
   "metadata": {},
   "outputs": [
    {
     "name": "stdout",
     "output_type": "stream",
     "text": [
      "0.7431371259324109\n"
     ]
    }
   ],
   "source": [
    "from sklearn.metrics import roc_auc_score\n",
    "print(roc_auc_score(y_test, y_preds))"
   ]
  },
  {
   "cell_type": "code",
   "execution_count": 13,
   "metadata": {},
   "outputs": [
    {
     "data": {
      "text/html": [
       "<div>\n",
       "<style scoped>\n",
       "    .dataframe tbody tr th:only-of-type {\n",
       "        vertical-align: middle;\n",
       "    }\n",
       "\n",
       "    .dataframe tbody tr th {\n",
       "        vertical-align: top;\n",
       "    }\n",
       "\n",
       "    .dataframe thead th {\n",
       "        text-align: right;\n",
       "    }\n",
       "</style>\n",
       "<table border=\"1\" class=\"dataframe\">\n",
       "  <thead>\n",
       "    <tr style=\"text-align: right;\">\n",
       "      <th></th>\n",
       "      <th>ROC</th>\n",
       "      <th>Time</th>\n",
       "    </tr>\n",
       "  </thead>\n",
       "  <tbody>\n",
       "    <tr>\n",
       "      <th>ROC_3nn</th>\n",
       "      <td>0.699621</td>\n",
       "      <td>29.148728</td>\n",
       "    </tr>\n",
       "    <tr>\n",
       "      <th>ROC_5nn</th>\n",
       "      <td>0.722953</td>\n",
       "      <td>29.378359</td>\n",
       "    </tr>\n",
       "    <tr>\n",
       "      <th>ROC_7nn</th>\n",
       "      <td>0.739735</td>\n",
       "      <td>29.483131</td>\n",
       "    </tr>\n",
       "    <tr>\n",
       "      <th>ROC_5nn_weighed</th>\n",
       "      <td>0.726559</td>\n",
       "      <td>33.254742</td>\n",
       "    </tr>\n",
       "    <tr>\n",
       "      <th>ROC_7nn_weighed</th>\n",
       "      <td>0.743137</td>\n",
       "      <td>34.526619</td>\n",
       "    </tr>\n",
       "  </tbody>\n",
       "</table>\n",
       "</div>"
      ],
      "text/plain": [
       "                      ROC       Time\n",
       "ROC_3nn          0.699621  29.148728\n",
       "ROC_5nn          0.722953  29.378359\n",
       "ROC_7nn          0.739735  29.483131\n",
       "ROC_5nn_weighed  0.726559  33.254742\n",
       "ROC_7nn_weighed  0.743137  34.526619"
      ]
     },
     "execution_count": 13,
     "metadata": {},
     "output_type": "execute_result"
    }
   ],
   "source": [
    "ROC_3nn =  [0.6996214808883037 , 29.148728132247925]\n",
    "ROC_5nn = [0.7229525862994551 , 29.378359079360962]\n",
    "ROC_7nn = [0.7397354504203681, 29.483131170272827]\n",
    "ROC_5nn_weighed = [0.7265594059943381, 33.25474190711975]\n",
    "ROC_7nn_weighed = [0.7431371259324109, 34.52661919593811]\n",
    "\n",
    "\n",
    "\n",
    "\n",
    "ROC_Overview = pd.DataFrame( [ROC_3nn, ROC_5nn, ROC_7nn, ROC_5nn_weighed,ROC_7nn_weighed])\n",
    "ROC_Overview.columns = ['ROC', 'Time']\n",
    "ROC_Overview.index = ['ROC_3nn', 'ROC_5nn', 'ROC_7nn', 'ROC_5nn_weighed', 'ROC_7nn_weighed']\n",
    "ROC_Overview"
   ]
  },
  {
   "cell_type": "code",
   "execution_count": 9,
   "metadata": {
    "scrolled": false
   },
   "outputs": [
    {
     "name": "stdout",
     "output_type": "stream",
     "text": [
      "              precision    recall  f1-score   support\n",
      "\n",
      "           0       0.55      0.30      0.39      1410\n",
      "           1       0.67      0.64      0.65      3137\n",
      "\n",
      "   micro avg       0.64      0.54      0.59      4547\n",
      "   macro avg       0.61      0.47      0.52      4547\n",
      "weighted avg       0.63      0.54      0.57      4547\n",
      " samples avg       0.29      0.28      0.28      4547\n",
      "\n"
     ]
    },
    {
     "name": "stderr",
     "output_type": "stream",
     "text": [
      "/Users/johannes/opt/anaconda3/envs/py37-ds/lib/python3.7/site-packages/sklearn/metrics/_classification.py:1272: UndefinedMetricWarning: Precision and F-score are ill-defined and being set to 0.0 in samples with no predicted labels. Use `zero_division` parameter to control this behavior.\n",
      "  _warn_prf(average, modifier, msg_start, len(result))\n",
      "/Users/johannes/opt/anaconda3/envs/py37-ds/lib/python3.7/site-packages/sklearn/metrics/_classification.py:1272: UndefinedMetricWarning: Recall and F-score are ill-defined and being set to 0.0 in samples with no true labels. Use `zero_division` parameter to control this behavior.\n",
      "  _warn_prf(average, modifier, msg_start, len(result))\n"
     ]
    }
   ],
   "source": [
    "from sklearn.metrics import classification_report\n",
    "#print(classification_report(y_train, train_predictions))\n",
    "print(classification_report(y_test, test_predictions))"
   ]
  }
 ],
 "metadata": {
  "kernelspec": {
   "display_name": "Python [conda env:py37-ds]",
   "language": "python",
   "name": "conda-env-py37-ds-py"
  },
  "language_info": {
   "codemirror_mode": {
    "name": "ipython",
    "version": 3
   },
   "file_extension": ".py",
   "mimetype": "text/x-python",
   "name": "python",
   "nbconvert_exporter": "python",
   "pygments_lexer": "ipython3",
   "version": "3.7.7"
  }
 },
 "nbformat": 4,
 "nbformat_minor": 4
}
