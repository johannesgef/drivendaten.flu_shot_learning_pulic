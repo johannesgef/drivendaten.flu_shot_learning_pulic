{
 "cells": [
  {
   "cell_type": "markdown",
   "metadata": {},
   "source": [
    "1. Grid Search\n",
    "2. Try LogReg with All Parameters\n"
   ]
  },
  {
   "cell_type": "code",
   "execution_count": 1,
   "metadata": {},
   "outputs": [],
   "source": [
    "import re\n",
    "from pathlib import Path\n",
    "import numpy as np\n",
    "import pandas as pd\n",
    "from sklearn.pipeline import Pipeline\n",
    "\n"
   ]
  },
  {
   "cell_type": "code",
   "execution_count": 2,
   "metadata": {},
   "outputs": [],
   "source": [
    "data_path_raw = Path.cwd().parent.parent / \"data\" / \"raw\"\n",
    "data_path_preprocessed = Path.cwd().parent.parent / \"data\" / \"processed\""
   ]
  },
  {
   "cell_type": "code",
   "execution_count": 3,
   "metadata": {},
   "outputs": [],
   "source": [
    "raw_df_processed = pd.read_csv(data_path_preprocessed / \"training_set_features_encoded_imputed_standardized.csv\", index_col=\"respondent_id\")\n",
    "labels_df = pd.read_csv(data_path_raw / \"training_set_labels.csv\", index_col=\"respondent_id\")\n",
    "test_df_processed = pd.read_csv(data_path_preprocessed / \"test_set_features_encoded_imputed_standardized.csv\", index_col=\"respondent_id\")\n",
    "\n",
    "all_raw_df = raw_df_processed.join(labels_df)"
   ]
  },
  {
   "cell_type": "code",
   "execution_count": 4,
   "metadata": {},
   "outputs": [],
   "source": [
    "import time \n",
    "\n",
    "from sklearn.multioutput import MultiOutputClassifier\n",
    "from sklearn.linear_model import LogisticRegression\n",
    "from sklearn.model_selection import train_test_split\n",
    "from sklearn.metrics import roc_auc_score"
   ]
  },
  {
   "cell_type": "code",
   "execution_count": 5,
   "metadata": {},
   "outputs": [],
   "source": [
    "#3 \n",
    "X_train, X_test, y_train, y_test = train_test_split(\n",
    "        raw_df_processed,\n",
    "        labels_df,\n",
    "        shuffle = True,\n",
    "        test_size = 0.25,\n",
    "        random_state = 10)\n"
   ]
  },
  {
   "cell_type": "code",
   "execution_count": 6,
   "metadata": {},
   "outputs": [],
   "source": [
    "pipeline = Pipeline([\n",
    "            ('LogReg', MultiOutputClassifier(LogisticRegression())) \n",
    "                 ])"
   ]
  },
  {
   "cell_type": "code",
   "execution_count": null,
   "metadata": {},
   "outputs": [],
   "source": [
    "from sklearn.model_selection import GridSearchCV\n",
    "\n",
    "param = {\n",
    "    'LogReg__estimator__penalty' : ['l1', 'l2' ,'elasticnet', 'none'],\n",
    "    'LogReg__estimator__dual' : [False, True],\n",
    "    'LogReg__estimator__C' : [0.5,1.,2.,5.],\n",
    "    'LogReg__estimator__fit_intercept' : [False, True], \n",
    "    'LogReg__estimator__class_weight' :['balanced', 'None'],\n",
    "    'LogReg__estimator__solver' : ['newton-cg', 'lbfgs', 'liblinear', 'sag', 'saga'],\n",
    "    'LogReg__estimator__max_iter' : [100],\n",
    "    'LogReg__estimator__l1_ratio' : [0, 0.5, 1]\n",
    "    }    \n",
    "\n",
    "clf = GridSearchCV(estimator=pipeline, param_grid = param, cv = 5, n_jobs=-1)\n",
    "clf.fit(raw_df_processed, labels_df)\n",
    "\n",
    "\n"
   ]
  },
  {
   "cell_type": "code",
   "execution_count": null,
   "metadata": {},
   "outputs": [],
   "source": [
    "clf.best_params_\n",
    "\n",
    "#{'LogReg__estimator__C': 0.5,\n",
    " #'LogReg__estimator__class_weight': 'None',\n",
    " #'LogReg__estimator__dual': False,\n",
    " #'LogReg__estimator__fit_intercept': True,\n",
    " #'LogReg__estimator__l1_ratio': 0,\n",
    " #'LogReg__estimator__max_iter': 1000,\n",
    " #'LogReg__estimator__penalty': 'l1',\n",
    " #'LogReg__estimator__solver': 'saga'}"
   ]
  },
  {
   "cell_type": "code",
   "execution_count": null,
   "metadata": {},
   "outputs": [],
   "source": [
    "results = pd.DataFrame(clf.cv_results_)\n",
    "results[results['rank_test_score'] < 10]\n",
    "top_results = results[results['rank_test_score'] < 10].sort_values(ascending = True, by = 'rank_test_score')\n",
    "top_results"
   ]
  },
  {
   "cell_type": "code",
   "execution_count": null,
   "metadata": {
    "scrolled": true
   },
   "outputs": [],
   "source": [
    "#clf.cv_results_['params'][404]"
   ]
  },
  {
   "cell_type": "code",
   "execution_count": null,
   "metadata": {},
   "outputs": [],
   "source": [
    "logisticRegr = MultiOutputClassifier(LogisticRegression(\n",
    "                        C = 0.5,\n",
    "                        class_weight = None,\n",
    "                        dual = False,\n",
    "                        fit_intercept = True,\n",
    "                        max_iter = 1000,\n",
    "                        penalty = 'l1', \n",
    "                        solver = 'saga'))\n",
    "\n",
    "logisticRegr.fit(X_train, y_train)\n",
    "test_probability = logisticRegr.predict_proba(X_test)\n"
   ]
  },
  {
   "cell_type": "code",
   "execution_count": null,
   "metadata": {},
   "outputs": [],
   "source": [
    "y_preds = pd.DataFrame(\n",
    "{\n",
    "        \"h1n1_vaccine\": test_probability[0][:, 1],\n",
    "        \"seasonal_vaccine\": test_probability[1][:, 1],\n",
    "    },\n",
    "    index = y_test.index\n",
    "    )"
   ]
  },
  {
   "cell_type": "code",
   "execution_count": null,
   "metadata": {},
   "outputs": [],
   "source": [
    "from sklearn.metrics import roc_auc_score\n",
    "print(roc_auc_score(y_test, y_preds))"
   ]
  },
  {
   "cell_type": "code",
   "execution_count": null,
   "metadata": {},
   "outputs": [],
   "source": [
    "logisticRegr = MultiOutputClassifier(LogisticRegression(\n",
    "                        C = 0.5,\n",
    "                        class_weight = None,\n",
    "                        dual = False,\n",
    "                        fit_intercept = True,\n",
    "                        max_iter = 1000,\n",
    "                        penalty = 'l1', \n",
    "                        solver = 'saga'))\n",
    "\n",
    "logisticRegr.fit(raw_df_processed, labels_df)\n",
    "test_probability = logisticRegr.predict_proba(test_df_processed)"
   ]
  },
  {
   "cell_type": "code",
   "execution_count": null,
   "metadata": {},
   "outputs": [],
   "source": [
    "predictions = pd.DataFrame(\n",
    "    {\n",
    "        \"h1n1_vaccine\": test_probability[0][:, 1],\n",
    "        \"seasonal_vaccine\": test_probability[1][:, 1],\n",
    "    },\n",
    "    index = test_df_processed.index\n",
    ")\n"
   ]
  },
  {
   "cell_type": "code",
   "execution_count": null,
   "metadata": {},
   "outputs": [],
   "source": [
    "submission_df = pd.read_csv(data_path_raw / \"submission_format.csv\", \n",
    "                            index_col=\"respondent_id\")"
   ]
  },
  {
   "cell_type": "code",
   "execution_count": null,
   "metadata": {},
   "outputs": [],
   "source": [
    "np.testing.assert_array_equal(test_df_processed.index.values, \n",
    "                              submission_df.index.values)\n"
   ]
  },
  {
   "cell_type": "code",
   "execution_count": null,
   "metadata": {},
   "outputs": [],
   "source": [
    "# Save predictions to submission data frame\n",
    "submission_df[\"h1n1_vaccine\"] = predictions[\"h1n1_vaccine\"]\n",
    "submission_df[\"seasonal_vaccine\"] = predictions[\"seasonal_vaccine\"]"
   ]
  },
  {
   "cell_type": "code",
   "execution_count": null,
   "metadata": {},
   "outputs": [],
   "source": [
    "#CHANGE PATH \n",
    "\n",
    "output_path = Path.cwd().parent.parent / \"models\" / \"submissions\"\n",
    "\n",
    "\n",
    "submission_df.to_csv(output_path /'logreg_JFR_200729__Proproccessed__GridSearch.csv', index=True)\n",
    "\n"
   ]
  },
  {
   "cell_type": "code",
   "execution_count": null,
   "metadata": {},
   "outputs": [],
   "source": []
  }
 ],
 "metadata": {
  "kernelspec": {
   "display_name": "Python [conda env:py37-ds]",
   "language": "python",
   "name": "conda-env-py37-ds-py"
  },
  "language_info": {
   "codemirror_mode": {
    "name": "ipython",
    "version": 3
   },
   "file_extension": ".py",
   "mimetype": "text/x-python",
   "name": "python",
   "nbconvert_exporter": "python",
   "pygments_lexer": "ipython3",
   "version": "3.7.7"
  }
 },
 "nbformat": 4,
 "nbformat_minor": 4
}
