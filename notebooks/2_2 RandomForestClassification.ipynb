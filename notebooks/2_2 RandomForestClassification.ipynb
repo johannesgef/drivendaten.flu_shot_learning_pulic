{
 "cells": [
  {
   "cell_type": "markdown",
   "metadata": {},
   "source": [
    "1.  fit processed data with random forest and predict probabilities with test data\n",
    "2.  load submission dataset, sort probabilities accordingly and save submission dataset"
   ]
  },
  {
   "cell_type": "code",
   "execution_count": 1,
   "metadata": {},
   "outputs": [],
   "source": [
    "import re\n",
    "from pathlib import Path\n",
    "import numpy as np\n",
    "import pandas as pd"
   ]
  },
  {
   "cell_type": "code",
   "execution_count": 2,
   "metadata": {},
   "outputs": [],
   "source": [
    "data_path_raw = Path.cwd().parent / \"data\" / \"raw\"\n",
    "\n",
    "data_path_preprocessed = Path.cwd().parent / \"data\" / \"processed\"\n"
   ]
  },
  {
   "cell_type": "code",
   "execution_count": 3,
   "metadata": {},
   "outputs": [],
   "source": [
    "processed_df = pd.read_csv(data_path_preprocessed / \"training_set_features__nominal_ordinal_WOE_Impute_Dropped_balanced.csv\", index_col=\"respondent_id\")\n",
    "labels_df_balanced = pd.read_csv(data_path_preprocessed / \"training_set_labels__balanced.csv\", index_col=\"respondent_id\")\n",
    "test_df_processed = pd.read_csv(data_path_preprocessed / \"test_set_features_nominal_ordinal_WOE_Impute_Dropped.csv\", index_col=\"respondent_id\")"
   ]
  },
  {
   "cell_type": "code",
   "execution_count": 4,
   "metadata": {},
   "outputs": [
    {
     "data": {
      "text/plain": [
       "23.666666666666668"
      ]
     },
     "execution_count": 4,
     "metadata": {},
     "output_type": "execute_result"
    }
   ],
   "source": [
    "## 1 fit processed data with random forest and predict probabilities with test data\n",
    "# best practise for maximum number of features are a third of the total number of features \n",
    "# max depth = 10 because this performed best in individual decision tree (2_1 DecisionTreeClassification..)\n",
    "\n",
    "\n",
    "max_feat = len(processed_df.columns)/3\n",
    "max_feat"
   ]
  },
  {
   "cell_type": "code",
   "execution_count": 5,
   "metadata": {},
   "outputs": [
    {
     "name": "stdout",
     "output_type": "stream",
     "text": [
      "15.72744607925415\n"
     ]
    }
   ],
   "source": [
    "## 1\n",
    "\n",
    "from sklearn.ensemble import RandomForestClassifier\n",
    "\n",
    "import time \n",
    "\n",
    "start = time.time()\n",
    "rand_forest = RandomForestClassifier(\n",
    "    max_depth=10, \n",
    "    max_features = 24)\n",
    "rand_forest.fit(processed_df, labels_df_balanced)\n",
    "#test_predictions = rand_forest.predict(test_df_processed)\n",
    "test_probability = rand_forest.predict_proba(test_df_processed)\n",
    "end = time.time()\n",
    "print(end - start)\n",
    "\n",
    "\n"
   ]
  },
  {
   "cell_type": "code",
   "execution_count": 6,
   "metadata": {},
   "outputs": [
    {
     "name": "stdout",
     "output_type": "stream",
     "text": [
      "y_preds.shape: (26708, 2)\n"
     ]
    },
    {
     "data": {
      "text/html": [
       "<div>\n",
       "<style scoped>\n",
       "    .dataframe tbody tr th:only-of-type {\n",
       "        vertical-align: middle;\n",
       "    }\n",
       "\n",
       "    .dataframe tbody tr th {\n",
       "        vertical-align: top;\n",
       "    }\n",
       "\n",
       "    .dataframe thead th {\n",
       "        text-align: right;\n",
       "    }\n",
       "</style>\n",
       "<table border=\"1\" class=\"dataframe\">\n",
       "  <thead>\n",
       "    <tr style=\"text-align: right;\">\n",
       "      <th></th>\n",
       "      <th>h1n1_vaccine</th>\n",
       "      <th>seasonal_vaccine</th>\n",
       "    </tr>\n",
       "    <tr>\n",
       "      <th>respondent_id</th>\n",
       "      <th></th>\n",
       "      <th></th>\n",
       "    </tr>\n",
       "  </thead>\n",
       "  <tbody>\n",
       "    <tr>\n",
       "      <th>26707</th>\n",
       "      <td>0.377616</td>\n",
       "      <td>0.273288</td>\n",
       "    </tr>\n",
       "    <tr>\n",
       "      <th>26708</th>\n",
       "      <td>0.102048</td>\n",
       "      <td>0.071731</td>\n",
       "    </tr>\n",
       "    <tr>\n",
       "      <th>26709</th>\n",
       "      <td>0.152960</td>\n",
       "      <td>0.742831</td>\n",
       "    </tr>\n",
       "    <tr>\n",
       "      <th>26710</th>\n",
       "      <td>0.751415</td>\n",
       "      <td>0.881080</td>\n",
       "    </tr>\n",
       "    <tr>\n",
       "      <th>26711</th>\n",
       "      <td>0.558055</td>\n",
       "      <td>0.502512</td>\n",
       "    </tr>\n",
       "  </tbody>\n",
       "</table>\n",
       "</div>"
      ],
      "text/plain": [
       "               h1n1_vaccine  seasonal_vaccine\n",
       "respondent_id                                \n",
       "26707              0.377616          0.273288\n",
       "26708              0.102048          0.071731\n",
       "26709              0.152960          0.742831\n",
       "26710              0.751415          0.881080\n",
       "26711              0.558055          0.502512"
      ]
     },
     "execution_count": 6,
     "metadata": {},
     "output_type": "execute_result"
    }
   ],
   "source": [
    "## 1\n",
    "\n",
    "y_preds = pd.DataFrame(\n",
    "    {\n",
    "        \"h1n1_vaccine\": test_probability[0][:, 1],\n",
    "        \"seasonal_vaccine\": test_probability[1][:, 1],\n",
    "    },\n",
    "    index = test_df_processed.index\n",
    ")\n",
    "print(\"y_preds.shape:\", y_preds.shape)\n",
    "y_preds.head()"
   ]
  },
  {
   "cell_type": "code",
   "execution_count": 7,
   "metadata": {},
   "outputs": [],
   "source": [
    "## 2 load submission dataset, sort probabilities accordingly and save submission dataset\n",
    "submission_df = pd.read_csv(data_path_raw / \"submission_format.csv\", \n",
    "                            index_col=\"respondent_id\")"
   ]
  },
  {
   "cell_type": "code",
   "execution_count": 8,
   "metadata": {},
   "outputs": [],
   "source": [
    "## 2\n",
    "np.testing.assert_array_equal(test_df_processed.index.values, \n",
    "                              submission_df.index.values)"
   ]
  },
  {
   "cell_type": "code",
   "execution_count": 9,
   "metadata": {},
   "outputs": [],
   "source": [
    "## 2\n",
    "\n",
    "submission_df[\"h1n1_vaccine\"] = y_preds[\"h1n1_vaccine\"]\n",
    "submission_df[\"seasonal_vaccine\"] = y_preds[\"seasonal_vaccine\"]"
   ]
  },
  {
   "cell_type": "code",
   "execution_count": 10,
   "metadata": {},
   "outputs": [],
   "source": [
    "## 2\n",
    "\n",
    "output_path = Path.cwd().parent / \"models\" / \"submissions\"\n",
    "\n",
    "submission_df.to_csv(output_path /'RandForest_balanced_data.csv', index=True)\n",
    "\n"
   ]
  },
  {
   "cell_type": "code",
   "execution_count": 11,
   "metadata": {},
   "outputs": [],
   "source": [
    "# 0.8466 roc score on submission "
   ]
  },
  {
   "cell_type": "code",
   "execution_count": null,
   "metadata": {},
   "outputs": [],
   "source": []
  }
 ],
 "metadata": {
  "kernelspec": {
   "display_name": "Python [conda env:py37-ds]",
   "language": "python",
   "name": "conda-env-py37-ds-py"
  },
  "language_info": {
   "codemirror_mode": {
    "name": "ipython",
    "version": 3
   },
   "file_extension": ".py",
   "mimetype": "text/x-python",
   "name": "python",
   "nbconvert_exporter": "python",
   "pygments_lexer": "ipython3",
   "version": "3.7.7"
  }
 },
 "nbformat": 4,
 "nbformat_minor": 4
}
