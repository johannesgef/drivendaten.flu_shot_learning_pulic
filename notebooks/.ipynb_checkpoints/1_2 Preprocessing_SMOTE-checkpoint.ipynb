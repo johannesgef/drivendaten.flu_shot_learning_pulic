{
 "cells": [
  {
   "cell_type": "markdown",
   "metadata": {},
   "source": [
    "1.  analyse frequencies of labels  -> h1n1 vaccine but no seasonal vaccine is severly under represented\n",
    "2.  define function to convert the two label string columns to one numerical column\n",
    "3.  apply function and check results\n",
    "4.  balance the dataset with SMOTE algorithm and check results\n",
    "5.  convert the numerical label column to two label string columns (reverse step 2)\n",
    "6.  save balanced datasets \n",
    "7.  standardize balanced dataset\n",
    "8.  save standardized and balanced version of dataset\n",
    "\n"
   ]
  },
  {
   "cell_type": "code",
   "execution_count": 1,
   "metadata": {},
   "outputs": [],
   "source": [
    "import re\n",
    "from pathlib import Path\n",
    "import numpy as np\n",
    "import pandas as pd\n",
    "import imblearn\n",
    "from imblearn.over_sampling import SMOTE"
   ]
  },
  {
   "cell_type": "code",
   "execution_count": 2,
   "metadata": {},
   "outputs": [],
   "source": [
    "data_path_processed = Path.cwd().parent / \"data\" / \"processed\"\n",
    "data_path_raw = Path.cwd().parent / \"data\" / \"raw\"\n",
    "\n",
    "\n",
    "processed_df = pd.read_csv(data_path_processed / \"training_set_features_nominal_ordinal_WOE_Impute_Dropped.csv\", index_col=\"respondent_id\")\n",
    "labels_df = pd.read_csv(data_path_raw / \"training_set_labels.csv\", index_col=\"respondent_id\")\n",
    "\n",
    "all_df = processed_df.join(labels_df)\n"
   ]
  },
  {
   "cell_type": "code",
   "execution_count": 3,
   "metadata": {},
   "outputs": [],
   "source": [
    "pd.set_option(\"display.max_rows\", 20, \"display.max_columns\", 20)"
   ]
  },
  {
   "cell_type": "code",
   "execution_count": 4,
   "metadata": {},
   "outputs": [
    {
     "name": "stdout",
     "output_type": "stream",
     "text": [
      "0    21033\n",
      "1     5674\n",
      "Name: h1n1_vaccine, dtype: int64\n",
      "0    14272\n",
      "1    12435\n",
      "Name: seasonal_vaccine, dtype: int64\n"
     ]
    },
    {
     "data": {
      "text/html": [
       "<div>\n",
       "<style scoped>\n",
       "    .dataframe tbody tr th:only-of-type {\n",
       "        vertical-align: middle;\n",
       "    }\n",
       "\n",
       "    .dataframe tbody tr th {\n",
       "        vertical-align: top;\n",
       "    }\n",
       "\n",
       "    .dataframe thead th {\n",
       "        text-align: right;\n",
       "    }\n",
       "</style>\n",
       "<table border=\"1\" class=\"dataframe\">\n",
       "  <thead>\n",
       "    <tr style=\"text-align: right;\">\n",
       "      <th>seasonal_vaccine</th>\n",
       "      <th>0</th>\n",
       "      <th>1</th>\n",
       "    </tr>\n",
       "    <tr>\n",
       "      <th>h1n1_vaccine</th>\n",
       "      <th></th>\n",
       "      <th></th>\n",
       "    </tr>\n",
       "  </thead>\n",
       "  <tbody>\n",
       "    <tr>\n",
       "      <th>0</th>\n",
       "      <td>13295</td>\n",
       "      <td>7738</td>\n",
       "    </tr>\n",
       "    <tr>\n",
       "      <th>1</th>\n",
       "      <td>977</td>\n",
       "      <td>4697</td>\n",
       "    </tr>\n",
       "  </tbody>\n",
       "</table>\n",
       "</div>"
      ],
      "text/plain": [
       "seasonal_vaccine      0     1\n",
       "h1n1_vaccine                 \n",
       "0                 13295  7738\n",
       "1                   977  4697"
      ]
     },
     "execution_count": 4,
     "metadata": {},
     "output_type": "execute_result"
    }
   ],
   "source": [
    "## 1 analyse frequencies of labels \n",
    "\n",
    "print(labels_df['h1n1_vaccine'].value_counts())\n",
    "print(labels_df['seasonal_vaccine'].value_counts())\n",
    "pd.crosstab(labels_df['h1n1_vaccine'],labels_df['seasonal_vaccine'] )"
   ]
  },
  {
   "cell_type": "code",
   "execution_count": 5,
   "metadata": {},
   "outputs": [],
   "source": [
    "## 2 define function to convert the two label string columns to one numerical column\n",
    "\n",
    "\n",
    "\n",
    "def one_vacc(df):\n",
    "    if (df['h1n1_vaccine'] == 0) and (df['seasonal_vaccine'] == 0):\n",
    "        return 0\n",
    "    elif (df['h1n1_vaccine'] == 1) and (df['seasonal_vaccine'] == 0):\n",
    "        return 1\n",
    "    elif (df['h1n1_vaccine'] == 0) and (df['seasonal_vaccine'] == 1):\n",
    "        return 2\n",
    "    else:\n",
    "        return 3\n",
    "\n",
    "\n",
    "\n"
   ]
  },
  {
   "cell_type": "code",
   "execution_count": 6,
   "metadata": {},
   "outputs": [],
   "source": [
    "## 3 Apply function and check results\n",
    "\n",
    "labels_df['one_column_vaccine'] = labels_df.apply(one_vacc, axis = 1)"
   ]
  },
  {
   "cell_type": "code",
   "execution_count": 7,
   "metadata": {
    "scrolled": true
   },
   "outputs": [
    {
     "name": "stdout",
     "output_type": "stream",
     "text": [
      "0    13295\n",
      "2     7738\n",
      "3     4697\n",
      "1      977\n",
      "Name: one_column_vaccine, dtype: int64\n"
     ]
    }
   ],
   "source": [
    "## 3 Apply function and check results\n",
    "\n",
    "\n",
    "print(labels_df['one_column_vaccine'].value_counts())"
   ]
  },
  {
   "cell_type": "code",
   "execution_count": 8,
   "metadata": {},
   "outputs": [],
   "source": [
    "## 4 balance the dataset with SMOTE algorithm \n",
    "\n",
    "oversample = SMOTE()\n",
    "processed_balanced, labels_df_balanced = oversample.fit_resample(processed_df, labels_df['one_column_vaccine'])"
   ]
  },
  {
   "cell_type": "code",
   "execution_count": 9,
   "metadata": {},
   "outputs": [
    {
     "name": "stdout",
     "output_type": "stream",
     "text": [
      "3    13295\n",
      "2    13295\n",
      "1    13295\n",
      "0    13295\n",
      "Name: one_column_vaccine, dtype: int64\n"
     ]
    },
    {
     "data": {
      "text/plain": [
       "(53180, 71)"
      ]
     },
     "execution_count": 9,
     "metadata": {},
     "output_type": "execute_result"
    }
   ],
   "source": [
    "## 4\n",
    "\n",
    "print(labels_df_balanced.value_counts())\n",
    "processed_balanced.shape"
   ]
  },
  {
   "cell_type": "code",
   "execution_count": 10,
   "metadata": {},
   "outputs": [],
   "source": [
    "## 5 convert the numerical label column to two label string columns (reverse step 2)\n",
    "\n",
    "def reverse_h1n1(df):\n",
    "    if (df['one_column_vaccine'] == 1) or (df['one_column_vaccine'] == 3) :\n",
    "        return 1\n",
    "    else:\n",
    "        return 0\n",
    "    \n",
    "def reverse_seasonal(df):\n",
    "    if (df['one_column_vaccine'] == 2) or (df['one_column_vaccine'] == 3) :\n",
    "        return 1\n",
    "    else:\n",
    "        return 0"
   ]
  },
  {
   "cell_type": "code",
   "execution_count": 11,
   "metadata": {},
   "outputs": [
    {
     "data": {
      "text/plain": [
       "(53180,)"
      ]
     },
     "execution_count": 11,
     "metadata": {},
     "output_type": "execute_result"
    }
   ],
   "source": [
    "## 5\n",
    "\n",
    "labels_df_balanced_pd = pd.DataFrame(labels_df_balanced, columns = ['one_column_vaccine'])\n",
    "labels_df_balanced_pd['one_column_vaccine'].shape"
   ]
  },
  {
   "cell_type": "code",
   "execution_count": 12,
   "metadata": {},
   "outputs": [
    {
     "data": {
      "text/html": [
       "<div>\n",
       "<style scoped>\n",
       "    .dataframe tbody tr th:only-of-type {\n",
       "        vertical-align: middle;\n",
       "    }\n",
       "\n",
       "    .dataframe tbody tr th {\n",
       "        vertical-align: top;\n",
       "    }\n",
       "\n",
       "    .dataframe thead th {\n",
       "        text-align: right;\n",
       "    }\n",
       "</style>\n",
       "<table border=\"1\" class=\"dataframe\">\n",
       "  <thead>\n",
       "    <tr style=\"text-align: right;\">\n",
       "      <th></th>\n",
       "      <th>h1n1_vaccine_new</th>\n",
       "      <th>seasonal_vaccine_new</th>\n",
       "    </tr>\n",
       "  </thead>\n",
       "  <tbody>\n",
       "    <tr>\n",
       "      <th>0</th>\n",
       "      <td>0</td>\n",
       "      <td>0</td>\n",
       "    </tr>\n",
       "    <tr>\n",
       "      <th>1</th>\n",
       "      <td>0</td>\n",
       "      <td>1</td>\n",
       "    </tr>\n",
       "    <tr>\n",
       "      <th>2</th>\n",
       "      <td>0</td>\n",
       "      <td>0</td>\n",
       "    </tr>\n",
       "    <tr>\n",
       "      <th>3</th>\n",
       "      <td>0</td>\n",
       "      <td>1</td>\n",
       "    </tr>\n",
       "    <tr>\n",
       "      <th>4</th>\n",
       "      <td>0</td>\n",
       "      <td>0</td>\n",
       "    </tr>\n",
       "    <tr>\n",
       "      <th>5</th>\n",
       "      <td>0</td>\n",
       "      <td>0</td>\n",
       "    </tr>\n",
       "    <tr>\n",
       "      <th>6</th>\n",
       "      <td>0</td>\n",
       "      <td>0</td>\n",
       "    </tr>\n",
       "    <tr>\n",
       "      <th>7</th>\n",
       "      <td>1</td>\n",
       "      <td>1</td>\n",
       "    </tr>\n",
       "    <tr>\n",
       "      <th>8</th>\n",
       "      <td>0</td>\n",
       "      <td>0</td>\n",
       "    </tr>\n",
       "    <tr>\n",
       "      <th>9</th>\n",
       "      <td>0</td>\n",
       "      <td>0</td>\n",
       "    </tr>\n",
       "  </tbody>\n",
       "</table>\n",
       "</div>"
      ],
      "text/plain": [
       "   h1n1_vaccine_new  seasonal_vaccine_new\n",
       "0                 0                     0\n",
       "1                 0                     1\n",
       "2                 0                     0\n",
       "3                 0                     1\n",
       "4                 0                     0\n",
       "5                 0                     0\n",
       "6                 0                     0\n",
       "7                 1                     1\n",
       "8                 0                     0\n",
       "9                 0                     0"
      ]
     },
     "execution_count": 12,
     "metadata": {},
     "output_type": "execute_result"
    }
   ],
   "source": [
    "## 5\n",
    "\n",
    "labels_df_balanced_pd['h1n1_vaccine_new'] = labels_df_balanced_pd.apply(reverse_h1n1, axis = 1)\n",
    "labels_df_balanced_pd['seasonal_vaccine_new'] = labels_df_balanced_pd.apply(reverse_seasonal, axis = 1)\n",
    "\n",
    "labels_df_balanced_pd = labels_df_balanced_pd.drop(columns = ['one_column_vaccine'])\n",
    "labels_df_balanced_pd.head(10)"
   ]
  },
  {
   "cell_type": "code",
   "execution_count": 13,
   "metadata": {},
   "outputs": [],
   "source": [
    "## 6 save balanced datasets\n",
    "\n",
    "labels_df_balanced_pd.index.rename('respondent_id', inplace = True)\n",
    "processed_balanced.index.rename('respondent_id', inplace = True)"
   ]
  },
  {
   "cell_type": "code",
   "execution_count": 14,
   "metadata": {},
   "outputs": [],
   "source": [
    "## 6\n",
    "\n",
    "data_path_preprocessed = Path.cwd().parent / \"data\" / \"processed\"\n",
    "\n",
    "labels_df_balanced_pd.to_csv (data_path_preprocessed / \n",
    "    'training_set_labels__balanced.csv')\n",
    "processed_balanced.to_csv (data_path_preprocessed / \n",
    "    'training_set_features__nominal_ordinal_WOE_Impute_Dropped_balanced.csv')\n"
   ]
  },
  {
   "cell_type": "code",
   "execution_count": 15,
   "metadata": {},
   "outputs": [],
   "source": [
    "# 7 standardize balanced dataset\n",
    "\n",
    "from sklearn.preprocessing import StandardScaler\n",
    "scaler = StandardScaler()\n",
    "processed_balanced_stand = scaler.fit_transform(processed_balanced)\n",
    "processed_balanced_stand = pd.DataFrame(processed_balanced_stand, columns = processed_balanced.columns, index = processed_balanced.index)\n"
   ]
  },
  {
   "cell_type": "code",
   "execution_count": 16,
   "metadata": {},
   "outputs": [],
   "source": [
    "# 8 save standardized and balanced version of dataset\n",
    "\n",
    "processed_balanced_stand.to_csv (data_path_preprocessed / \n",
    "    'training_set_features__nominal_ordinal_WOE_Impute_Dropped_balanced_stand.csv')"
   ]
  },
  {
   "cell_type": "code",
   "execution_count": null,
   "metadata": {},
   "outputs": [],
   "source": []
  }
 ],
 "metadata": {
  "kernelspec": {
   "display_name": "Python [conda env:py37-ds]",
   "language": "python",
   "name": "conda-env-py37-ds-py"
  },
  "language_info": {
   "codemirror_mode": {
    "name": "ipython",
    "version": 3
   },
   "file_extension": ".py",
   "mimetype": "text/x-python",
   "name": "python",
   "nbconvert_exporter": "python",
   "pygments_lexer": "ipython3",
   "version": "3.7.7"
  }
 },
 "nbformat": 4,
 "nbformat_minor": 4
}
