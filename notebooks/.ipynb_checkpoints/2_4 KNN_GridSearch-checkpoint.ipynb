{
 "cells": [
  {
   "cell_type": "markdown",
   "metadata": {},
   "source": [
    "1. split preprocessed data in train und validation sets\n",
    "2. create pipeline for Grid Search Algorithm and execute grid search on serveral KNN parameters \n",
    "3. apply KNN with best parameters on splitted train data \n",
    "4. compare ROC to other models  \n",
    "\n"
   ]
  },
  {
   "cell_type": "code",
   "execution_count": 1,
   "metadata": {},
   "outputs": [],
   "source": [
    "import re\n",
    "from pathlib import Path\n",
    "import numpy as np\n",
    "import pandas as pd\n",
    "import time\n",
    "from hyperopt import STATUS_OK\n",
    "from sklearn.model_selection import train_test_split\n",
    "from sklearn.pipeline import Pipeline\n",
    "from sklearn.neighbors import KNeighborsClassifier\n",
    "from sklearn.model_selection import GridSearchCV\n"
   ]
  },
  {
   "cell_type": "code",
   "execution_count": 2,
   "metadata": {},
   "outputs": [],
   "source": [
    "data_path_raw = Path.cwd().parent / \"data\" / \"raw\"\n",
    "\n",
    "data_path_preprocessed = Path.cwd().parent / \"data\" / \"processed\"\n"
   ]
  },
  {
   "cell_type": "code",
   "execution_count": null,
   "metadata": {},
   "outputs": [],
   "source": [
    "processed_df = pd.read_csv(data_path_preprocessed / \"training_set_features__nominal_ordinal_WOE_Impute_Dropped_balanced_stand.csv\", index_col=\"respondent_id\")\n",
    "labels_df = pd.read_csv(data_path_preprocessed / \"training_set_labels__balanced.csv\", index_col=\"respondent_id\")\n",
    "test_df_processed = pd.read_csv(data_path_preprocessed / \"test_set_features_nominal_ordinal_WOE_Impute_Dropped_Stand.csv\", index_col=\"respondent_id\")\n"
   ]
  },
  {
   "cell_type": "code",
   "execution_count": null,
   "metadata": {},
   "outputs": [],
   "source": [
    "## 1 split preprocessed data in train und validation sets\n",
    "\n",
    "from sklearn.model_selection import train_test_split\n",
    "X_train, X_test, y_train, y_test = train_test_split(\n",
    "    processed_df,\n",
    "    labels_df,\n",
    "    shuffle = True,\n",
    "    test_size = 0.25,\n",
    "    random_state = 10)\n",
    "\n"
   ]
  },
  {
   "cell_type": "code",
   "execution_count": null,
   "metadata": {},
   "outputs": [],
   "source": [
    "## 2 create pipeline for Grid Search Algorithm and execute grid search on serveral KNN parameters \n",
    "param = {\n",
    "    'n_neighbors' : [1, 3, 5, 7, 9],\n",
    "    'weights' : ['uniform', 'distance'],\n",
    "    'p' : [1, 2]\n",
    "    }\n",
    "knn = KNeighborsClassifier()\n",
    "    \n",
    "\n",
    "clf = GridSearchCV(knn, param_grid = param, cv = 5, n_jobs=-1)\n",
    "clf.fit(X_train, y_train)\n",
    "\n",
    "\n",
    "\n"
   ]
  },
  {
   "cell_type": "code",
   "execution_count": null,
   "metadata": {},
   "outputs": [],
   "source": [
    "## 2\n",
    "clf.best_params_"
   ]
  },
  {
   "cell_type": "code",
   "execution_count": null,
   "metadata": {},
   "outputs": [],
   "source": [
    "## 2\n",
    "results = pd.DataFrame(clf.cv_results_)\n",
    "results.sort_values(ascending = True, by = 'rank_test_score')"
   ]
  },
  {
   "cell_type": "code",
   "execution_count": null,
   "metadata": {},
   "outputs": [],
   "source": [
    "## 3 apply KNN with best parameters on splitted train data \n",
    "\n",
    "\n",
    "knn = KNeighborsClassifier(n_neighbors=9, weights='distance', p = 1)\n",
    "\n",
    "start = time.time()\n",
    "knn.fit(X_train, y_train)\n",
    "test_predictions = knn.predict(X_test)\n",
    "test_probability = knn.predict_proba(X_test)\n",
    "end = time.time()\n",
    "print(end - start)\n",
    "\n",
    "\n"
   ]
  },
  {
   "cell_type": "code",
   "execution_count": null,
   "metadata": {},
   "outputs": [],
   "source": [
    "## 3 \n",
    "y_preds = pd.DataFrame(\n",
    "    {\n",
    "        \"h1n1_vaccine\": test_probability[0][:, 1],\n",
    "        \"seasonal_vaccine\": test_probability[1][:, 1],\n",
    "    },\n",
    "    index = y_test.index\n",
    ")\n",
    "print(\"y_preds.shape:\", y_preds.shape)\n",
    "y_preds.head()"
   ]
  },
  {
   "cell_type": "code",
   "execution_count": null,
   "metadata": {},
   "outputs": [],
   "source": [
    "## 3 \n",
    "from sklearn.metrics import roc_auc_score\n",
    "print(roc_auc_score(y_test, y_preds))"
   ]
  },
  {
   "cell_type": "code",
   "execution_count": null,
   "metadata": {},
   "outputs": [],
   "source": [
    "## 4 compare to other executions \n",
    "\n",
    "ROC_3nn =  [0.6996214808883037 , 29.148728132247925]\n",
    "ROC_5nn = [0.7229525862994551 , 29.378359079360962]\n",
    "ROC_7nn = [0.7397354504203681, 29.483131170272827]\n",
    "ROC_5nn_weighed = [0.7265594059943381, 33.25474190711975]\n",
    "ROC_7nn_weighed = [0.7431371259324109, 34.52661919593811]\n",
    "ROC_Grid_search = [0.7695095328560894, 28.562514066696167]\n",
    "\n",
    "\n",
    "\n",
    "ROC_Overview = pd.DataFrame( [ROC_3nn, ROC_5nn, ROC_7nn, ROC_5nn_weighed,ROC_7nn_weighed, ROC_Grid_search])\n",
    "ROC_Overview.columns = ['ROC', 'Time']\n",
    "ROC_Overview.index = ['ROC_3nn', 'ROC_5nn', 'ROC_7nn', 'ROC_5nn_weighed', 'ROC_7nn_weighed', 'ROC_Grid_search']\n",
    "ROC_Overview"
   ]
  },
  {
   "cell_type": "code",
   "execution_count": null,
   "metadata": {},
   "outputs": [],
   "source": []
  }
 ],
 "metadata": {
  "kernelspec": {
   "display_name": "Python [conda env:py37-ds]",
   "language": "python",
   "name": "conda-env-py37-ds-py"
  },
  "language_info": {
   "codemirror_mode": {
    "name": "ipython",
    "version": 3
   },
   "file_extension": ".py",
   "mimetype": "text/x-python",
   "name": "python",
   "nbconvert_exporter": "python",
   "pygments_lexer": "ipython3",
   "version": "3.7.7"
  }
 },
 "nbformat": 4,
 "nbformat_minor": 4
}
