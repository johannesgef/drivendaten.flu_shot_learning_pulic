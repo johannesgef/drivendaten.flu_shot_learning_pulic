{
 "cells": [
  {
   "cell_type": "code",
   "execution_count": 1,
   "metadata": {},
   "outputs": [],
   "source": [
    "from pathlib import Path\n",
    "\n",
    "import numpy as np\n",
    "import pandas as pd\n",
    "\n",
    "pd.set_option(\"display.max_columns\", 100)"
   ]
  },
  {
   "cell_type": "code",
   "execution_count": 2,
   "metadata": {},
   "outputs": [
    {
     "name": "stdout",
     "output_type": "stream",
     "text": [
      "/home/pi/workspace/drivendata.flu-shot-learning/data/raw\n",
      "/home/pi/workspace/drivendata.flu-shot-learning/models/submissions\n"
     ]
    }
   ],
   "source": [
    "DATA_PATH = Path.cwd().parent / \"data\" / \"raw\"\n",
    "OUTPUT_PATH = Path.cwd().parent / \"models\" / \"submissions\"\n",
    "\n",
    "print(DATA_PATH)\n",
    "print(OUTPUT_PATH)"
   ]
  },
  {
   "cell_type": "code",
   "execution_count": 3,
   "metadata": {},
   "outputs": [],
   "source": [
    "features_df = pd.read_csv(\n",
    "    DATA_PATH / \"training_set_features.csv\", \n",
    "    index_col=\"respondent_id\"\n",
    ")\n",
    "\n",
    "labels_df = pd.read_csv(\n",
    "    DATA_PATH / \"training_set_labels.csv\", \n",
    "    index_col=\"respondent_id\"\n",
    ")"
   ]
  },
  {
   "cell_type": "code",
   "execution_count": 4,
   "metadata": {},
   "outputs": [],
   "source": [
    "from sklearn.preprocessing import StandardScaler\n",
    "from sklearn.impute import SimpleImputer\n",
    "from sklearn.compose import ColumnTransformer\n",
    "\n",
    "from sklearn.linear_model import LogisticRegression\n",
    "from sklearn.multioutput import MultiOutputClassifier\n",
    "\n",
    "from sklearn.pipeline import Pipeline\n",
    "\n",
    "from sklearn.model_selection import train_test_split\n",
    "\n",
    "from sklearn.metrics import roc_curve, roc_auc_score\n",
    "\n",
    "RANDOM_SEED = 6    # Set a random seed for reproducibility!"
   ]
  },
  {
   "cell_type": "code",
   "execution_count": 5,
   "metadata": {},
   "outputs": [
    {
     "data": {
      "text/plain": [
       "array(['age_group', 'education', 'race', 'sex', 'income_poverty',\n",
       "       'marital_status', 'rent_or_own', 'employment_status',\n",
       "       'hhs_geo_region', 'census_msa'], dtype=object)"
      ]
     },
     "execution_count": 5,
     "metadata": {},
     "output_type": "execute_result"
    }
   ],
   "source": [
    "one_hot_cols = features_df.columns[features_df.dtypes == \"object\"].values[0:-2]\n",
    "one_hot_cols"
   ]
  },
  {
   "cell_type": "code",
   "execution_count": 6,
   "metadata": {
    "scrolled": true
   },
   "outputs": [
    {
     "name": "stdout",
     "output_type": "stream",
     "text": [
      "age_group\n",
      "65+ Years        6843\n",
      "55 - 64 Years    5563\n",
      "45 - 54 Years    5238\n",
      "18 - 34 Years    5215\n",
      "35 - 44 Years    3848\n",
      "Name: age_group, dtype: int64\n",
      "\n",
      "\n",
      "education\n",
      "College Graduate    10097\n",
      "Some College         7043\n",
      "12 Years             5797\n",
      "< 12 Years           2363\n",
      "NaN                  1407\n",
      "Name: education, dtype: int64\n",
      "\n",
      "\n",
      "race\n",
      "White                21222\n",
      "Black                 2118\n",
      "Hispanic              1755\n",
      "Other or Multiple     1612\n",
      "Name: race, dtype: int64\n",
      "\n",
      "\n",
      "sex\n",
      "Female    15858\n",
      "Male      10849\n",
      "Name: sex, dtype: int64\n",
      "\n",
      "\n",
      "income_poverty\n",
      "<= $75,000, Above Poverty    12777\n",
      "> $75,000                     6810\n",
      "NaN                           4423\n",
      "Below Poverty                 2697\n",
      "Name: income_poverty, dtype: int64\n",
      "\n",
      "\n",
      "marital_status\n",
      "Married        13555\n",
      "Not Married    11744\n",
      "NaN             1408\n",
      "Name: marital_status, dtype: int64\n",
      "\n",
      "\n",
      "rent_or_own\n",
      "Own     18736\n",
      "Rent     5929\n",
      "NaN      2042\n",
      "Name: rent_or_own, dtype: int64\n",
      "\n",
      "\n",
      "employment_status\n",
      "Employed              13560\n",
      "Not in Labor Force    10231\n",
      "NaN                    1463\n",
      "Unemployed             1453\n",
      "Name: employment_status, dtype: int64\n",
      "\n",
      "\n",
      "hhs_geo_region\n",
      "lzgpxyit    4297\n",
      "fpwskwrf    3265\n",
      "qufhixun    3102\n",
      "oxchjgsf    2859\n",
      "kbazzjca    2858\n",
      "bhuqouqj    2846\n",
      "mlyzmhmf    2243\n",
      "lrircsnp    2078\n",
      "atmpeygn    2033\n",
      "dqpwygqj    1126\n",
      "Name: hhs_geo_region, dtype: int64\n",
      "\n",
      "\n",
      "census_msa\n",
      "MSA, Not Principle  City    11645\n",
      "MSA, Principle City          7864\n",
      "Non-MSA                      7198\n",
      "Name: census_msa, dtype: int64\n",
      "\n",
      "\n"
     ]
    }
   ],
   "source": [
    "for col in one_hot_cols :\n",
    "    print(col)\n",
    "    print(features_df[col].value_counts(dropna=False))\n",
    "    print (\"\\n\")"
   ]
  },
  {
   "cell_type": "code",
   "execution_count": 7,
   "metadata": {},
   "outputs": [
    {
     "data": {
      "text/plain": [
       "['age_group',\n",
       " 'education',\n",
       " 'race',\n",
       " 'sex',\n",
       " 'income_poverty',\n",
       " 'marital_status',\n",
       " 'rent_or_own',\n",
       " 'employment_status',\n",
       " 'hhs_geo_region',\n",
       " 'census_msa']"
      ]
     },
     "execution_count": 7,
     "metadata": {},
     "output_type": "execute_result"
    }
   ],
   "source": [
    "one_hot_cols.tolist() ## nett zu wissen, brauchen wir aber nicht ;-)"
   ]
  },
  {
   "cell_type": "code",
   "execution_count": 11,
   "metadata": {},
   "outputs": [
    {
     "name": "stdout",
     "output_type": "stream",
     "text": [
      "features_df.h1n1_concern\n",
      "features_df.h1n1_knowledge\n",
      "features_df.behavioral_antiviral_meds\n",
      "features_df.behavioral_avoidance\n",
      "features_df.behavioral_face_mask\n",
      "features_df.behavioral_wash_hands\n",
      "features_df.behavioral_large_gatherings\n",
      "features_df.behavioral_outside_home\n",
      "features_df.behavioral_touch_face\n",
      "features_df.doctor_recc_h1n1\n",
      "features_df.doctor_recc_seasonal\n",
      "features_df.chronic_med_condition\n",
      "features_df.child_under_6_months\n",
      "features_df.health_worker\n",
      "features_df.health_insurance\n",
      "features_df.opinion_h1n1_vacc_effective\n",
      "features_df.opinion_h1n1_risk\n",
      "features_df.opinion_h1n1_sick_from_vacc\n",
      "features_df.opinion_seas_vacc_effective\n",
      "features_df.opinion_seas_risk\n",
      "features_df.opinion_seas_sick_from_vacc\n",
      "features_df.household_adults\n",
      "features_df.household_children\n",
      "features_df.employment_industry\n",
      "features_df.employment_occupation\n",
      "features_df.age_group_18 - 34 Years\n",
      "features_df.age_group_35 - 44 Years\n",
      "features_df.age_group_45 - 54 Years\n",
      "features_df.age_group_55 - 64 Years\n",
      "features_df.age_group_65+ Years\n",
      "features_df.age_group_nan\n",
      "features_df.education_12 Years\n",
      "features_df.education_< 12 Years\n",
      "features_df.education_College Graduate\n",
      "features_df.education_Some College\n",
      "features_df.education_nan\n",
      "features_df.race_Black\n",
      "features_df.race_Hispanic\n",
      "features_df.race_Other or Multiple\n",
      "features_df.race_White\n",
      "features_df.race_nan\n",
      "features_df.sex_Female\n",
      "features_df.sex_Male\n",
      "features_df.sex_nan\n",
      "features_df.income_poverty_<= $75,000, Above Poverty\n",
      "features_df.income_poverty_> $75,000\n",
      "features_df.income_poverty_Below Poverty\n",
      "features_df.income_poverty_nan\n",
      "features_df.marital_status_Married\n",
      "features_df.marital_status_Not Married\n",
      "features_df.marital_status_nan\n",
      "features_df.rent_or_own_Own\n",
      "features_df.rent_or_own_Rent\n",
      "features_df.rent_or_own_nan\n",
      "features_df.employment_status_Employed\n",
      "features_df.employment_status_Not in Labor Force\n",
      "features_df.employment_status_Unemployed\n",
      "features_df.employment_status_nan\n",
      "features_df.hhs_geo_region_atmpeygn\n",
      "features_df.hhs_geo_region_bhuqouqj\n",
      "features_df.hhs_geo_region_dqpwygqj\n",
      "features_df.hhs_geo_region_fpwskwrf\n",
      "features_df.hhs_geo_region_kbazzjca\n",
      "features_df.hhs_geo_region_lrircsnp\n",
      "features_df.hhs_geo_region_lzgpxyit\n",
      "features_df.hhs_geo_region_mlyzmhmf\n",
      "features_df.hhs_geo_region_oxchjgsf\n",
      "features_df.hhs_geo_region_qufhixun\n",
      "features_df.hhs_geo_region_nan\n",
      "features_df.census_msa_MSA, Not Principle  City\n",
      "features_df.census_msa_MSA, Principle City\n",
      "features_df.census_msa_Non-MSA\n",
      "features_df.census_msa_nan\n"
     ]
    }
   ],
   "source": [
    "for col in pd.get_dummies(features_df, columns=one_hot_cols, dummy_na=True).columns:\n",
    "    print('features_df.' + col)\n",
    "    "
   ]
  },
  {
   "cell_type": "code",
   "execution_count": 42,
   "metadata": {},
   "outputs": [],
   "source": [
    "newfeatures_df = pd.get_dummies(features_df, columns=one_hot_cols, dummy_na=True)\n",
    "\n",
    "#newfeatures_df.dtypes == \"object\""
   ]
  },
  {
   "cell_type": "code",
   "execution_count": 45,
   "metadata": {},
   "outputs": [
    {
     "name": "stdout",
     "output_type": "stream",
     "text": [
      "['h1n1_concern' 'h1n1_knowledge' 'behavioral_antiviral_meds'\n",
      " 'behavioral_avoidance' 'behavioral_face_mask' 'behavioral_wash_hands'\n",
      " 'behavioral_large_gatherings' 'behavioral_outside_home'\n",
      " 'behavioral_touch_face' 'doctor_recc_h1n1' 'doctor_recc_seasonal'\n",
      " 'chronic_med_condition' 'child_under_6_months' 'health_worker'\n",
      " 'health_insurance' 'opinion_h1n1_vacc_effective' 'opinion_h1n1_risk'\n",
      " 'opinion_h1n1_sick_from_vacc' 'opinion_seas_vacc_effective'\n",
      " 'opinion_seas_risk' 'opinion_seas_sick_from_vacc' 'household_adults'\n",
      " 'household_children' 'age_group_18 - 34 Years' 'age_group_35 - 44 Years'\n",
      " 'age_group_45 - 54 Years' 'age_group_55 - 64 Years' 'age_group_65+ Years'\n",
      " 'age_group_nan' 'education_12 Years' 'education_< 12 Years'\n",
      " 'education_College Graduate' 'education_Some College' 'education_nan'\n",
      " 'race_Black' 'race_Hispanic' 'race_Other or Multiple' 'race_White'\n",
      " 'race_nan' 'sex_Female' 'sex_Male' 'sex_nan'\n",
      " 'income_poverty_<= $75,000, Above Poverty' 'income_poverty_> $75,000'\n",
      " 'income_poverty_Below Poverty' 'income_poverty_nan'\n",
      " 'marital_status_Married' 'marital_status_Not Married'\n",
      " 'marital_status_nan' 'rent_or_own_Own' 'rent_or_own_Rent'\n",
      " 'rent_or_own_nan' 'employment_status_Employed'\n",
      " 'employment_status_Not in Labor Force' 'employment_status_Unemployed'\n",
      " 'employment_status_nan' 'hhs_geo_region_atmpeygn'\n",
      " 'hhs_geo_region_bhuqouqj' 'hhs_geo_region_dqpwygqj'\n",
      " 'hhs_geo_region_fpwskwrf' 'hhs_geo_region_kbazzjca'\n",
      " 'hhs_geo_region_lrircsnp' 'hhs_geo_region_lzgpxyit'\n",
      " 'hhs_geo_region_mlyzmhmf' 'hhs_geo_region_oxchjgsf'\n",
      " 'hhs_geo_region_qufhixun' 'hhs_geo_region_nan'\n",
      " 'census_msa_MSA, Not Principle  City' 'census_msa_MSA, Principle City'\n",
      " 'census_msa_Non-MSA' 'census_msa_nan']\n"
     ]
    }
   ],
   "source": [
    "numeric_cols = newfeatures_df.columns[newfeatures_df.dtypes != \"object\"].values\n",
    "print(numeric_cols)"
   ]
  },
  {
   "cell_type": "code",
   "execution_count": 7,
   "metadata": {},
   "outputs": [],
   "source": [
    "# ---------------------------------------"
   ]
  },
  {
   "cell_type": "code",
   "execution_count": 46,
   "metadata": {},
   "outputs": [],
   "source": [
    "# chain preprocessing into a Pipeline object\n",
    "# each step is a tuple of (name you chose, sklearn transformer)\n",
    "numeric_preprocessing_steps = Pipeline([\n",
    "    ('standard_scaler', StandardScaler()),\n",
    "    ('simple_imputer', SimpleImputer(strategy='median'))\n",
    "])\n",
    "\n",
    "# create the preprocessor stage of final pipeline\n",
    "# each entry in the transformer list is a tuple of\n",
    "# (name you choose, sklearn transformer, list of columns)\n",
    "preprocessor = ColumnTransformer(\n",
    "    transformers = [\n",
    "        (\"numeric\", numeric_preprocessing_steps, numeric_cols)\n",
    "    ],\n",
    "    remainder = \"drop\"\n",
    ")"
   ]
  },
  {
   "cell_type": "code",
   "execution_count": 47,
   "metadata": {},
   "outputs": [],
   "source": [
    "estimators = MultiOutputClassifier(\n",
    "    estimator=LogisticRegression(penalty=\"l2\", C=1)\n",
    ")"
   ]
  },
  {
   "cell_type": "code",
   "execution_count": 48,
   "metadata": {},
   "outputs": [],
   "source": [
    "full_pipeline = Pipeline([\n",
    "    (\"preprocessor\", preprocessor),\n",
    "    (\"estimators\", estimators),\n",
    "])"
   ]
  },
  {
   "cell_type": "code",
   "execution_count": 49,
   "metadata": {},
   "outputs": [
    {
     "data": {
      "text/plain": [
       "Pipeline(steps=[('preprocessor',\n",
       "                 ColumnTransformer(transformers=[('numeric',\n",
       "                                                  Pipeline(steps=[('standard_scaler',\n",
       "                                                                   StandardScaler()),\n",
       "                                                                  ('simple_imputer',\n",
       "                                                                   SimpleImputer(strategy='median'))]),\n",
       "                                                  array(['h1n1_concern', 'h1n1_knowledge', 'behavioral_antiviral_meds',\n",
       "       'behavioral_avoidance', 'behavioral_face_mask',\n",
       "       'behavioral_wash_hands', 'behavioral_large_gatherings',\n",
       "       '...\n",
       "       'hhs_geo_region_kbazzjca', 'hhs_geo_region_lrircsnp',\n",
       "       'hhs_geo_region_lzgpxyit', 'hhs_geo_region_mlyzmhmf',\n",
       "       'hhs_geo_region_oxchjgsf', 'hhs_geo_region_qufhixun',\n",
       "       'hhs_geo_region_nan', 'census_msa_MSA, Not Principle  City',\n",
       "       'census_msa_MSA, Principle City', 'census_msa_Non-MSA',\n",
       "       'census_msa_nan'], dtype=object))])),\n",
       "                ('estimators',\n",
       "                 MultiOutputClassifier(estimator=LogisticRegression(C=1)))])"
      ]
     },
     "execution_count": 49,
     "metadata": {},
     "output_type": "execute_result"
    }
   ],
   "source": [
    "full_pipeline"
   ]
  },
  {
   "cell_type": "code",
   "execution_count": 50,
   "metadata": {},
   "outputs": [],
   "source": [
    "X_train, X_eval, y_train, y_eval = train_test_split(\n",
    "    newfeatures_df,\n",
    "    labels_df,\n",
    "    test_size=0.33,\n",
    "    shuffle=True,\n",
    "    stratify=labels_df,\n",
    "    random_state=RANDOM_SEED\n",
    ")"
   ]
  },
  {
   "cell_type": "code",
   "execution_count": 51,
   "metadata": {},
   "outputs": [
    {
     "name": "stdout",
     "output_type": "stream",
     "text": [
      "CPU times: user 1.35 s, sys: 440 ms, total: 1.79 s\n",
      "Wall time: 1.79 s\n"
     ]
    },
    {
     "data": {
      "text/plain": [
       "[array([[0.66227994, 0.33772006],\n",
       "        [0.90218033, 0.09781967],\n",
       "        [0.76726519, 0.23273481],\n",
       "        ...,\n",
       "        [0.94697536, 0.05302464],\n",
       "        [0.91939971, 0.08060029],\n",
       "        [0.93109056, 0.06890944]]),\n",
       " array([[0.52806788, 0.47193212],\n",
       "        [0.51087285, 0.48912715],\n",
       "        [0.20146812, 0.79853188],\n",
       "        ...,\n",
       "        [0.85580896, 0.14419104],\n",
       "        [0.88744818, 0.11255182],\n",
       "        [0.09625407, 0.90374593]])]"
      ]
     },
     "execution_count": 51,
     "metadata": {},
     "output_type": "execute_result"
    }
   ],
   "source": [
    "%%time\n",
    "\n",
    "# Train model\n",
    "full_pipeline.fit(X_train, y_train)\n",
    "\n",
    "# Predict on evaluation set\n",
    "# This competition wants probabilities, not labels\n",
    "preds = full_pipeline.predict_proba(X_eval)\n",
    "preds"
   ]
  },
  {
   "cell_type": "code",
   "execution_count": 52,
   "metadata": {},
   "outputs": [
    {
     "name": "stdout",
     "output_type": "stream",
     "text": [
      "test_probas[0].shape (8814, 2)\n",
      "test_probas[1].shape (8814, 2)\n"
     ]
    }
   ],
   "source": [
    "print(\"test_probas[0].shape\", preds[0].shape)\n",
    "print(\"test_probas[1].shape\", preds[1].shape)"
   ]
  },
  {
   "cell_type": "code",
   "execution_count": 53,
   "metadata": {},
   "outputs": [
    {
     "name": "stdout",
     "output_type": "stream",
     "text": [
      "y_preds.shape: (8814, 2)\n"
     ]
    },
    {
     "data": {
      "text/html": [
       "<div>\n",
       "<style scoped>\n",
       "    .dataframe tbody tr th:only-of-type {\n",
       "        vertical-align: middle;\n",
       "    }\n",
       "\n",
       "    .dataframe tbody tr th {\n",
       "        vertical-align: top;\n",
       "    }\n",
       "\n",
       "    .dataframe thead th {\n",
       "        text-align: right;\n",
       "    }\n",
       "</style>\n",
       "<table border=\"1\" class=\"dataframe\">\n",
       "  <thead>\n",
       "    <tr style=\"text-align: right;\">\n",
       "      <th></th>\n",
       "      <th>h1n1_vaccine</th>\n",
       "      <th>seasonal_vaccine</th>\n",
       "    </tr>\n",
       "    <tr>\n",
       "      <th>respondent_id</th>\n",
       "      <th></th>\n",
       "      <th></th>\n",
       "    </tr>\n",
       "  </thead>\n",
       "  <tbody>\n",
       "    <tr>\n",
       "      <th>6728</th>\n",
       "      <td>0.337720</td>\n",
       "      <td>0.471932</td>\n",
       "    </tr>\n",
       "    <tr>\n",
       "      <th>16516</th>\n",
       "      <td>0.097820</td>\n",
       "      <td>0.489127</td>\n",
       "    </tr>\n",
       "    <tr>\n",
       "      <th>3106</th>\n",
       "      <td>0.232735</td>\n",
       "      <td>0.798532</td>\n",
       "    </tr>\n",
       "    <tr>\n",
       "      <th>16981</th>\n",
       "      <td>0.732326</td>\n",
       "      <td>0.922748</td>\n",
       "    </tr>\n",
       "    <tr>\n",
       "      <th>19111</th>\n",
       "      <td>0.227251</td>\n",
       "      <td>0.767821</td>\n",
       "    </tr>\n",
       "  </tbody>\n",
       "</table>\n",
       "</div>"
      ],
      "text/plain": [
       "               h1n1_vaccine  seasonal_vaccine\n",
       "respondent_id                                \n",
       "6728               0.337720          0.471932\n",
       "16516              0.097820          0.489127\n",
       "3106               0.232735          0.798532\n",
       "16981              0.732326          0.922748\n",
       "19111              0.227251          0.767821"
      ]
     },
     "execution_count": 53,
     "metadata": {},
     "output_type": "execute_result"
    }
   ],
   "source": [
    "y_preds = pd.DataFrame(\n",
    "    {\n",
    "        \"h1n1_vaccine\": preds[0][:, 1],\n",
    "        \"seasonal_vaccine\": preds[1][:, 1],\n",
    "    },\n",
    "    index = y_eval.index\n",
    ")\n",
    "print(\"y_preds.shape:\", y_preds.shape)\n",
    "y_preds.head()"
   ]
  },
  {
   "cell_type": "code",
   "execution_count": 54,
   "metadata": {},
   "outputs": [],
   "source": [
    "def plot_roc(y_true, y_score, label_name, ax):\n",
    "    fpr, tpr, thresholds = roc_curve(y_true, y_score)\n",
    "    ax.plot(fpr, tpr)\n",
    "    ax.plot([0, 1], [0, 1], color='grey', linestyle='--')\n",
    "    ax.set_ylabel('TPR')\n",
    "    ax.set_xlabel('FPR')\n",
    "    ax.set_title(\n",
    "        f\"{label_name}: AUC = {roc_auc_score(y_true, y_score):.4f}\"\n",
    "    )"
   ]
  },
  {
   "cell_type": "code",
   "execution_count": 55,
   "metadata": {},
   "outputs": [],
   "source": [
    "%matplotlib inline\n",
    "import matplotlib.pyplot as plt"
   ]
  },
  {
   "cell_type": "code",
   "execution_count": 56,
   "metadata": {},
   "outputs": [
    {
     "data": {
      "image/png": "[encoded data removed]",
      "text/plain": [
       "<Figure size 504x252 with 2 Axes>"
      ]
     },
     "metadata": {
      "needs_background": "light"
     },
     "output_type": "display_data"
    }
   ],
   "source": [
    "fig, ax = plt.subplots(1, 2, figsize=(7, 3.5))\n",
    "\n",
    "plot_roc(\n",
    "    y_eval['h1n1_vaccine'], \n",
    "    y_preds['h1n1_vaccine'], \n",
    "    'h1n1_vaccine',\n",
    "    ax=ax[0]\n",
    ")\n",
    "\n",
    "plot_roc(\n",
    "    y_eval['seasonal_vaccine'], \n",
    "    y_preds['seasonal_vaccine'], \n",
    "    'seasonal_vaccine',\n",
    "    ax=ax[1]\n",
    ")\n",
    "\n",
    "fig.tight_layout()"
   ]
  },
  {
   "cell_type": "code",
   "execution_count": 57,
   "metadata": {},
   "outputs": [
    {
     "data": {
      "text/plain": [
       "0.8405147425719206"
      ]
     },
     "execution_count": 57,
     "metadata": {},
     "output_type": "execute_result"
    }
   ],
   "source": [
    "roc_auc_score(y_eval, y_preds)"
   ]
  },
  {
   "cell_type": "code",
   "execution_count": 58,
   "metadata": {},
   "outputs": [
    {
     "name": "stdout",
     "output_type": "stream",
     "text": [
      "CPU times: user 1.74 s, sys: 700 ms, total: 2.44 s\n",
      "Wall time: 2.43 s\n"
     ]
    }
   ],
   "source": [
    "%%time \n",
    "\n",
    "full_pipeline.fit(newfeatures_df, labels_df)\n",
    "\n",
    "None   # So we don't print out the whole pipeline representation"
   ]
  },
  {
   "cell_type": "code",
   "execution_count": 60,
   "metadata": {},
   "outputs": [
    {
     "data": {
      "text/plain": [
       "[array([[0.91058041, 0.08941959],\n",
       "        [0.95310427, 0.04689573],\n",
       "        [0.52220866, 0.47779134],\n",
       "        ...,\n",
       "        [0.8620221 , 0.1379779 ],\n",
       "        [0.94472272, 0.05527728],\n",
       "        [0.4251507 , 0.5748493 ]]),\n",
       " array([[0.74362951, 0.25637049],\n",
       "        [0.96371938, 0.03628062],\n",
       "        [0.34889758, 0.65110242],\n",
       "        ...,\n",
       "        [0.7924393 , 0.2075607 ],\n",
       "        [0.6487271 , 0.3512729 ],\n",
       "        [0.48838595, 0.51161405]])]"
      ]
     },
     "execution_count": 60,
     "metadata": {},
     "output_type": "execute_result"
    }
   ],
   "source": [
    "test_features_df = pd.read_csv(DATA_PATH / \"test_set_features.csv\", index_col=\"respondent_id\")\n",
    "\n",
    "new_test_features_df = pd.get_dummies(test_features_df, columns=one_hot_cols, dummy_na=True)\n",
    "\n",
    "test_probas = full_pipeline.predict_proba(new_test_features_df)\n",
    "test_probas"
   ]
  },
  {
   "cell_type": "code",
   "execution_count": 61,
   "metadata": {},
   "outputs": [
    {
     "data": {
      "text/html": [
       "<div>\n",
       "<style scoped>\n",
       "    .dataframe tbody tr th:only-of-type {\n",
       "        vertical-align: middle;\n",
       "    }\n",
       "\n",
       "    .dataframe tbody tr th {\n",
       "        vertical-align: top;\n",
       "    }\n",
       "\n",
       "    .dataframe thead th {\n",
       "        text-align: right;\n",
       "    }\n",
       "</style>\n",
       "<table border=\"1\" class=\"dataframe\">\n",
       "  <thead>\n",
       "    <tr style=\"text-align: right;\">\n",
       "      <th></th>\n",
       "      <th>h1n1_vaccine</th>\n",
       "      <th>seasonal_vaccine</th>\n",
       "    </tr>\n",
       "    <tr>\n",
       "      <th>respondent_id</th>\n",
       "      <th></th>\n",
       "      <th></th>\n",
       "    </tr>\n",
       "  </thead>\n",
       "  <tbody>\n",
       "    <tr>\n",
       "      <th>26707</th>\n",
       "      <td>0.5</td>\n",
       "      <td>0.7</td>\n",
       "    </tr>\n",
       "    <tr>\n",
       "      <th>26708</th>\n",
       "      <td>0.5</td>\n",
       "      <td>0.7</td>\n",
       "    </tr>\n",
       "    <tr>\n",
       "      <th>26709</th>\n",
       "      <td>0.5</td>\n",
       "      <td>0.7</td>\n",
       "    </tr>\n",
       "    <tr>\n",
       "      <th>26710</th>\n",
       "      <td>0.5</td>\n",
       "      <td>0.7</td>\n",
       "    </tr>\n",
       "    <tr>\n",
       "      <th>26711</th>\n",
       "      <td>0.5</td>\n",
       "      <td>0.7</td>\n",
       "    </tr>\n",
       "  </tbody>\n",
       "</table>\n",
       "</div>"
      ],
      "text/plain": [
       "               h1n1_vaccine  seasonal_vaccine\n",
       "respondent_id                                \n",
       "26707                   0.5               0.7\n",
       "26708                   0.5               0.7\n",
       "26709                   0.5               0.7\n",
       "26710                   0.5               0.7\n",
       "26711                   0.5               0.7"
      ]
     },
     "execution_count": 61,
     "metadata": {},
     "output_type": "execute_result"
    }
   ],
   "source": [
    "submission_df = pd.read_csv(DATA_PATH / \"submission_format.csv\", index_col=\"respondent_id\")\n",
    "submission_df.head()"
   ]
  },
  {
   "cell_type": "code",
   "execution_count": 62,
   "metadata": {},
   "outputs": [
    {
     "data": {
      "text/html": [
       "<div>\n",
       "<style scoped>\n",
       "    .dataframe tbody tr th:only-of-type {\n",
       "        vertical-align: middle;\n",
       "    }\n",
       "\n",
       "    .dataframe tbody tr th {\n",
       "        vertical-align: top;\n",
       "    }\n",
       "\n",
       "    .dataframe thead th {\n",
       "        text-align: right;\n",
       "    }\n",
       "</style>\n",
       "<table border=\"1\" class=\"dataframe\">\n",
       "  <thead>\n",
       "    <tr style=\"text-align: right;\">\n",
       "      <th></th>\n",
       "      <th>h1n1_vaccine</th>\n",
       "      <th>seasonal_vaccine</th>\n",
       "    </tr>\n",
       "    <tr>\n",
       "      <th>respondent_id</th>\n",
       "      <th></th>\n",
       "      <th></th>\n",
       "    </tr>\n",
       "  </thead>\n",
       "  <tbody>\n",
       "    <tr>\n",
       "      <th>26707</th>\n",
       "      <td>0.089420</td>\n",
       "      <td>0.256370</td>\n",
       "    </tr>\n",
       "    <tr>\n",
       "      <th>26708</th>\n",
       "      <td>0.046896</td>\n",
       "      <td>0.036281</td>\n",
       "    </tr>\n",
       "    <tr>\n",
       "      <th>26709</th>\n",
       "      <td>0.477791</td>\n",
       "      <td>0.651102</td>\n",
       "    </tr>\n",
       "    <tr>\n",
       "      <th>26710</th>\n",
       "      <td>0.484131</td>\n",
       "      <td>0.878090</td>\n",
       "    </tr>\n",
       "    <tr>\n",
       "      <th>26711</th>\n",
       "      <td>0.172353</td>\n",
       "      <td>0.452223</td>\n",
       "    </tr>\n",
       "  </tbody>\n",
       "</table>\n",
       "</div>"
      ],
      "text/plain": [
       "               h1n1_vaccine  seasonal_vaccine\n",
       "respondent_id                                \n",
       "26707              0.089420          0.256370\n",
       "26708              0.046896          0.036281\n",
       "26709              0.477791          0.651102\n",
       "26710              0.484131          0.878090\n",
       "26711              0.172353          0.452223"
      ]
     },
     "execution_count": 62,
     "metadata": {},
     "output_type": "execute_result"
    }
   ],
   "source": [
    "# Make sure we have the rows in the same order\n",
    "np.testing.assert_array_equal(new_test_features_df.index.values, \n",
    "                              submission_df.index.values)\n",
    "\n",
    "# Save predictions to submission data frame\n",
    "submission_df[\"h1n1_vaccine\"] = test_probas[0][:, 1]\n",
    "submission_df[\"seasonal_vaccine\"] = test_probas[1][:, 1]\n",
    "\n",
    "submission_df.head()"
   ]
  },
  {
   "cell_type": "code",
   "execution_count": 63,
   "metadata": {},
   "outputs": [],
   "source": [
    "submission_df.to_csv(OUTPUT_PATH / 'submission_2.csv', index=True)"
   ]
  },
  {
   "cell_type": "code",
   "execution_count": null,
   "metadata": {},
   "outputs": [],
   "source": []
  }
 ],
 "metadata": {
  "kernelspec": {
   "display_name": "drivendata-flu_shot",
   "language": "python",
   "name": "drivendata-flu_shot"
  },
  "language_info": {
   "codemirror_mode": {
    "name": "ipython",
    "version": 3
   },
   "file_extension": ".py",
   "mimetype": "text/x-python",
   "name": "python",
   "nbconvert_exporter": "python",
   "pygments_lexer": "ipython3",
   "version": "3.7.3"
  }
 },
 "nbformat": 4,
 "nbformat_minor": 4
}
